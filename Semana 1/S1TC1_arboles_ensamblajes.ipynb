{
  "cells": [
    {
      "cell_type": "markdown",
      "metadata": {
        "id": "BfWuTJAd9G3m"
      },
      "source": [
        "![image info](https://raw.githubusercontent.com/albahnsen/MIAD_ML_and_NLP/main/images/banner_1.png)"
      ]
    },
    {
      "cell_type": "markdown",
      "metadata": {
        "id": "J0nl3AUW9G3p"
      },
      "source": [
        "# Taller: Construcción e implementación de árboles de decisión y métodos de ensamblaje\n",
        "\n",
        "En este taller podrá poner en práctica los sus conocimientos sobre construcción e implementación de árboles de decisión y métodos de ensamblajes. El taller está constituido por 9 puntos, 5 relacionados con árboles de decisión (parte A) y 4 con métodos de ensamblaje (parte B)."
      ]
    },
    {
      "cell_type": "markdown",
      "metadata": {
        "id": "lYK9it9O9G3p"
      },
      "source": [
        "## Parte A - Árboles de decisión\n",
        "\n",
        "En esta parte del taller se usará el conjunto de datos de Capital Bikeshare de Kaggle, donde cada observación representa el alquiler de una bicicleta durante una hora y día determinado. Para más detalles puede visitar los siguientes enlaces: [datos](https://github.com/justmarkham/DAT8/blob/master/data/bikeshare.csv), [dicccionario de datos](https://www.kaggle.com/c/bike-sharing-demand/data)."
      ]
    },
    {
      "cell_type": "markdown",
      "metadata": {
        "id": "ZpNWzYHb9G3q"
      },
      "source": [
        "### Datos prestamo de bicicletas"
      ]
    },
    {
      "cell_type": "code",
      "execution_count": 1,
      "metadata": {
        "id": "tGn-D0mW9G3q"
      },
      "outputs": [],
      "source": [
        "import warnings\n",
        "warnings.filterwarnings('ignore')"
      ]
    },
    {
      "cell_type": "code",
      "execution_count": 2,
      "metadata": {
        "id": "o7vc8oKu9G3r"
      },
      "outputs": [],
      "source": [
        "# Importación de librerías\n",
        "%matplotlib inline\n",
        "import pandas as pd\n",
        "import numpy as np\n",
        "from sklearn.model_selection import cross_val_score\n",
        "from sklearn.linear_model import LinearRegression\n",
        "from sklearn.tree import DecisionTreeRegressor, export_graphviz\n",
        "from sklearn.model_selection import train_test_split\n",
        "from sklearn.metrics import mean_squared_error\n",
        "import matplotlib.pyplot as plt"
      ]
    },
    {
      "cell_type": "code",
      "execution_count": 3,
      "metadata": {
        "id": "EjGleCCh9G3s",
        "outputId": "0944666a-30ba-41f9-b8a5-021d38933f37",
        "colab": {
          "base_uri": "https://localhost:8080/",
          "height": 238
        }
      },
      "outputs": [
        {
          "output_type": "execute_result",
          "data": {
            "text/plain": [
              "                     season  holiday  workingday  weather  temp   atemp  \\\n",
              "datetime                                                                  \n",
              "2011-01-01 00:00:00       1        0           0        1  9.84  14.395   \n",
              "2011-01-01 01:00:00       1        0           0        1  9.02  13.635   \n",
              "2011-01-01 02:00:00       1        0           0        1  9.02  13.635   \n",
              "2011-01-01 03:00:00       1        0           0        1  9.84  14.395   \n",
              "2011-01-01 04:00:00       1        0           0        1  9.84  14.395   \n",
              "\n",
              "                     humidity  windspeed  casual  registered  total  hour  \n",
              "datetime                                                                   \n",
              "2011-01-01 00:00:00        81        0.0       3          13     16     0  \n",
              "2011-01-01 01:00:00        80        0.0       8          32     40     1  \n",
              "2011-01-01 02:00:00        80        0.0       5          27     32     2  \n",
              "2011-01-01 03:00:00        75        0.0       3          10     13     3  \n",
              "2011-01-01 04:00:00        75        0.0       0           1      1     4  "
            ],
            "text/html": [
              "\n",
              "  <div id=\"df-82de8ba5-539a-4d9e-a696-47278af7df36\">\n",
              "    <div class=\"colab-df-container\">\n",
              "      <div>\n",
              "<style scoped>\n",
              "    .dataframe tbody tr th:only-of-type {\n",
              "        vertical-align: middle;\n",
              "    }\n",
              "\n",
              "    .dataframe tbody tr th {\n",
              "        vertical-align: top;\n",
              "    }\n",
              "\n",
              "    .dataframe thead th {\n",
              "        text-align: right;\n",
              "    }\n",
              "</style>\n",
              "<table border=\"1\" class=\"dataframe\">\n",
              "  <thead>\n",
              "    <tr style=\"text-align: right;\">\n",
              "      <th></th>\n",
              "      <th>season</th>\n",
              "      <th>holiday</th>\n",
              "      <th>workingday</th>\n",
              "      <th>weather</th>\n",
              "      <th>temp</th>\n",
              "      <th>atemp</th>\n",
              "      <th>humidity</th>\n",
              "      <th>windspeed</th>\n",
              "      <th>casual</th>\n",
              "      <th>registered</th>\n",
              "      <th>total</th>\n",
              "      <th>hour</th>\n",
              "    </tr>\n",
              "    <tr>\n",
              "      <th>datetime</th>\n",
              "      <th></th>\n",
              "      <th></th>\n",
              "      <th></th>\n",
              "      <th></th>\n",
              "      <th></th>\n",
              "      <th></th>\n",
              "      <th></th>\n",
              "      <th></th>\n",
              "      <th></th>\n",
              "      <th></th>\n",
              "      <th></th>\n",
              "      <th></th>\n",
              "    </tr>\n",
              "  </thead>\n",
              "  <tbody>\n",
              "    <tr>\n",
              "      <th>2011-01-01 00:00:00</th>\n",
              "      <td>1</td>\n",
              "      <td>0</td>\n",
              "      <td>0</td>\n",
              "      <td>1</td>\n",
              "      <td>9.84</td>\n",
              "      <td>14.395</td>\n",
              "      <td>81</td>\n",
              "      <td>0.0</td>\n",
              "      <td>3</td>\n",
              "      <td>13</td>\n",
              "      <td>16</td>\n",
              "      <td>0</td>\n",
              "    </tr>\n",
              "    <tr>\n",
              "      <th>2011-01-01 01:00:00</th>\n",
              "      <td>1</td>\n",
              "      <td>0</td>\n",
              "      <td>0</td>\n",
              "      <td>1</td>\n",
              "      <td>9.02</td>\n",
              "      <td>13.635</td>\n",
              "      <td>80</td>\n",
              "      <td>0.0</td>\n",
              "      <td>8</td>\n",
              "      <td>32</td>\n",
              "      <td>40</td>\n",
              "      <td>1</td>\n",
              "    </tr>\n",
              "    <tr>\n",
              "      <th>2011-01-01 02:00:00</th>\n",
              "      <td>1</td>\n",
              "      <td>0</td>\n",
              "      <td>0</td>\n",
              "      <td>1</td>\n",
              "      <td>9.02</td>\n",
              "      <td>13.635</td>\n",
              "      <td>80</td>\n",
              "      <td>0.0</td>\n",
              "      <td>5</td>\n",
              "      <td>27</td>\n",
              "      <td>32</td>\n",
              "      <td>2</td>\n",
              "    </tr>\n",
              "    <tr>\n",
              "      <th>2011-01-01 03:00:00</th>\n",
              "      <td>1</td>\n",
              "      <td>0</td>\n",
              "      <td>0</td>\n",
              "      <td>1</td>\n",
              "      <td>9.84</td>\n",
              "      <td>14.395</td>\n",
              "      <td>75</td>\n",
              "      <td>0.0</td>\n",
              "      <td>3</td>\n",
              "      <td>10</td>\n",
              "      <td>13</td>\n",
              "      <td>3</td>\n",
              "    </tr>\n",
              "    <tr>\n",
              "      <th>2011-01-01 04:00:00</th>\n",
              "      <td>1</td>\n",
              "      <td>0</td>\n",
              "      <td>0</td>\n",
              "      <td>1</td>\n",
              "      <td>9.84</td>\n",
              "      <td>14.395</td>\n",
              "      <td>75</td>\n",
              "      <td>0.0</td>\n",
              "      <td>0</td>\n",
              "      <td>1</td>\n",
              "      <td>1</td>\n",
              "      <td>4</td>\n",
              "    </tr>\n",
              "  </tbody>\n",
              "</table>\n",
              "</div>\n",
              "      <button class=\"colab-df-convert\" onclick=\"convertToInteractive('df-82de8ba5-539a-4d9e-a696-47278af7df36')\"\n",
              "              title=\"Convert this dataframe to an interactive table.\"\n",
              "              style=\"display:none;\">\n",
              "        \n",
              "  <svg xmlns=\"http://www.w3.org/2000/svg\" height=\"24px\"viewBox=\"0 0 24 24\"\n",
              "       width=\"24px\">\n",
              "    <path d=\"M0 0h24v24H0V0z\" fill=\"none\"/>\n",
              "    <path d=\"M18.56 5.44l.94 2.06.94-2.06 2.06-.94-2.06-.94-.94-2.06-.94 2.06-2.06.94zm-11 1L8.5 8.5l.94-2.06 2.06-.94-2.06-.94L8.5 2.5l-.94 2.06-2.06.94zm10 10l.94 2.06.94-2.06 2.06-.94-2.06-.94-.94-2.06-.94 2.06-2.06.94z\"/><path d=\"M17.41 7.96l-1.37-1.37c-.4-.4-.92-.59-1.43-.59-.52 0-1.04.2-1.43.59L10.3 9.45l-7.72 7.72c-.78.78-.78 2.05 0 2.83L4 21.41c.39.39.9.59 1.41.59.51 0 1.02-.2 1.41-.59l7.78-7.78 2.81-2.81c.8-.78.8-2.07 0-2.86zM5.41 20L4 18.59l7.72-7.72 1.47 1.35L5.41 20z\"/>\n",
              "  </svg>\n",
              "      </button>\n",
              "      \n",
              "  <style>\n",
              "    .colab-df-container {\n",
              "      display:flex;\n",
              "      flex-wrap:wrap;\n",
              "      gap: 12px;\n",
              "    }\n",
              "\n",
              "    .colab-df-convert {\n",
              "      background-color: #E8F0FE;\n",
              "      border: none;\n",
              "      border-radius: 50%;\n",
              "      cursor: pointer;\n",
              "      display: none;\n",
              "      fill: #1967D2;\n",
              "      height: 32px;\n",
              "      padding: 0 0 0 0;\n",
              "      width: 32px;\n",
              "    }\n",
              "\n",
              "    .colab-df-convert:hover {\n",
              "      background-color: #E2EBFA;\n",
              "      box-shadow: 0px 1px 2px rgba(60, 64, 67, 0.3), 0px 1px 3px 1px rgba(60, 64, 67, 0.15);\n",
              "      fill: #174EA6;\n",
              "    }\n",
              "\n",
              "    [theme=dark] .colab-df-convert {\n",
              "      background-color: #3B4455;\n",
              "      fill: #D2E3FC;\n",
              "    }\n",
              "\n",
              "    [theme=dark] .colab-df-convert:hover {\n",
              "      background-color: #434B5C;\n",
              "      box-shadow: 0px 1px 3px 1px rgba(0, 0, 0, 0.15);\n",
              "      filter: drop-shadow(0px 1px 2px rgba(0, 0, 0, 0.3));\n",
              "      fill: #FFFFFF;\n",
              "    }\n",
              "  </style>\n",
              "\n",
              "      <script>\n",
              "        const buttonEl =\n",
              "          document.querySelector('#df-82de8ba5-539a-4d9e-a696-47278af7df36 button.colab-df-convert');\n",
              "        buttonEl.style.display =\n",
              "          google.colab.kernel.accessAllowed ? 'block' : 'none';\n",
              "\n",
              "        async function convertToInteractive(key) {\n",
              "          const element = document.querySelector('#df-82de8ba5-539a-4d9e-a696-47278af7df36');\n",
              "          const dataTable =\n",
              "            await google.colab.kernel.invokeFunction('convertToInteractive',\n",
              "                                                     [key], {});\n",
              "          if (!dataTable) return;\n",
              "\n",
              "          const docLinkHtml = 'Like what you see? Visit the ' +\n",
              "            '<a target=\"_blank\" href=https://colab.research.google.com/notebooks/data_table.ipynb>data table notebook</a>'\n",
              "            + ' to learn more about interactive tables.';\n",
              "          element.innerHTML = '';\n",
              "          dataTable['output_type'] = 'display_data';\n",
              "          await google.colab.output.renderOutput(dataTable, element);\n",
              "          const docLink = document.createElement('div');\n",
              "          docLink.innerHTML = docLinkHtml;\n",
              "          element.appendChild(docLink);\n",
              "        }\n",
              "      </script>\n",
              "    </div>\n",
              "  </div>\n",
              "  "
            ]
          },
          "metadata": {},
          "execution_count": 3
        }
      ],
      "source": [
        "# Lectura de la información de archivo .csv\n",
        "bikes = pd.read_csv('https://raw.githubusercontent.com/albahnsen/MIAD_ML_and_NLP/main/datasets/bikeshare.csv', index_col='datetime', parse_dates=True)\n",
        "# Renombrar variable \"count\" a \"total\"\n",
        "bikes.rename(columns={'count':'total'}, inplace=True)\n",
        "# Crear la hora como una variable \n",
        "bikes['hour'] = bikes.index.hour\n",
        "# Visualización\n",
        "bikes.head()"
      ]
    },
    {
      "cell_type": "markdown",
      "metadata": {
        "id": "fCh_-GF_9G3s"
      },
      "source": [
        "### Punto 1 - Análisis descriptivo\n",
        "\n",
        "Ejecute las celdas 1.1 y 1.2. A partir de los resultados realice un análisis descriptivo sobre las variables hour y workingday, escriba sus inferencias sobre los datos. Para complementar su análisis puede usar métricas como máximo, mínimo, percentiles entre otros."
      ]
    },
    {
      "cell_type": "code",
      "execution_count": 4,
      "metadata": {
        "id": "nIPFKJ_b9G3t",
        "outputId": "82c68fee-dbed-4200-91ba-48c925e25965",
        "colab": {
          "base_uri": "https://localhost:8080/",
          "height": 143
        }
      },
      "outputs": [
        {
          "output_type": "execute_result",
          "data": {
            "text/plain": [
              "             count        mean         std  min   25%    50%    75%    max\n",
              "workingday                                                                \n",
              "0           3474.0  188.506621  173.724015  1.0  44.0  128.0  304.0  783.0\n",
              "1           7412.0  193.011873  184.513659  1.0  41.0  151.0  277.0  977.0"
            ],
            "text/html": [
              "\n",
              "  <div id=\"df-d36da0a4-6cae-4fb7-9c1d-357953d5bfa6\">\n",
              "    <div class=\"colab-df-container\">\n",
              "      <div>\n",
              "<style scoped>\n",
              "    .dataframe tbody tr th:only-of-type {\n",
              "        vertical-align: middle;\n",
              "    }\n",
              "\n",
              "    .dataframe tbody tr th {\n",
              "        vertical-align: top;\n",
              "    }\n",
              "\n",
              "    .dataframe thead th {\n",
              "        text-align: right;\n",
              "    }\n",
              "</style>\n",
              "<table border=\"1\" class=\"dataframe\">\n",
              "  <thead>\n",
              "    <tr style=\"text-align: right;\">\n",
              "      <th></th>\n",
              "      <th>count</th>\n",
              "      <th>mean</th>\n",
              "      <th>std</th>\n",
              "      <th>min</th>\n",
              "      <th>25%</th>\n",
              "      <th>50%</th>\n",
              "      <th>75%</th>\n",
              "      <th>max</th>\n",
              "    </tr>\n",
              "    <tr>\n",
              "      <th>workingday</th>\n",
              "      <th></th>\n",
              "      <th></th>\n",
              "      <th></th>\n",
              "      <th></th>\n",
              "      <th></th>\n",
              "      <th></th>\n",
              "      <th></th>\n",
              "      <th></th>\n",
              "    </tr>\n",
              "  </thead>\n",
              "  <tbody>\n",
              "    <tr>\n",
              "      <th>0</th>\n",
              "      <td>3474.0</td>\n",
              "      <td>188.506621</td>\n",
              "      <td>173.724015</td>\n",
              "      <td>1.0</td>\n",
              "      <td>44.0</td>\n",
              "      <td>128.0</td>\n",
              "      <td>304.0</td>\n",
              "      <td>783.0</td>\n",
              "    </tr>\n",
              "    <tr>\n",
              "      <th>1</th>\n",
              "      <td>7412.0</td>\n",
              "      <td>193.011873</td>\n",
              "      <td>184.513659</td>\n",
              "      <td>1.0</td>\n",
              "      <td>41.0</td>\n",
              "      <td>151.0</td>\n",
              "      <td>277.0</td>\n",
              "      <td>977.0</td>\n",
              "    </tr>\n",
              "  </tbody>\n",
              "</table>\n",
              "</div>\n",
              "      <button class=\"colab-df-convert\" onclick=\"convertToInteractive('df-d36da0a4-6cae-4fb7-9c1d-357953d5bfa6')\"\n",
              "              title=\"Convert this dataframe to an interactive table.\"\n",
              "              style=\"display:none;\">\n",
              "        \n",
              "  <svg xmlns=\"http://www.w3.org/2000/svg\" height=\"24px\"viewBox=\"0 0 24 24\"\n",
              "       width=\"24px\">\n",
              "    <path d=\"M0 0h24v24H0V0z\" fill=\"none\"/>\n",
              "    <path d=\"M18.56 5.44l.94 2.06.94-2.06 2.06-.94-2.06-.94-.94-2.06-.94 2.06-2.06.94zm-11 1L8.5 8.5l.94-2.06 2.06-.94-2.06-.94L8.5 2.5l-.94 2.06-2.06.94zm10 10l.94 2.06.94-2.06 2.06-.94-2.06-.94-.94-2.06-.94 2.06-2.06.94z\"/><path d=\"M17.41 7.96l-1.37-1.37c-.4-.4-.92-.59-1.43-.59-.52 0-1.04.2-1.43.59L10.3 9.45l-7.72 7.72c-.78.78-.78 2.05 0 2.83L4 21.41c.39.39.9.59 1.41.59.51 0 1.02-.2 1.41-.59l7.78-7.78 2.81-2.81c.8-.78.8-2.07 0-2.86zM5.41 20L4 18.59l7.72-7.72 1.47 1.35L5.41 20z\"/>\n",
              "  </svg>\n",
              "      </button>\n",
              "      \n",
              "  <style>\n",
              "    .colab-df-container {\n",
              "      display:flex;\n",
              "      flex-wrap:wrap;\n",
              "      gap: 12px;\n",
              "    }\n",
              "\n",
              "    .colab-df-convert {\n",
              "      background-color: #E8F0FE;\n",
              "      border: none;\n",
              "      border-radius: 50%;\n",
              "      cursor: pointer;\n",
              "      display: none;\n",
              "      fill: #1967D2;\n",
              "      height: 32px;\n",
              "      padding: 0 0 0 0;\n",
              "      width: 32px;\n",
              "    }\n",
              "\n",
              "    .colab-df-convert:hover {\n",
              "      background-color: #E2EBFA;\n",
              "      box-shadow: 0px 1px 2px rgba(60, 64, 67, 0.3), 0px 1px 3px 1px rgba(60, 64, 67, 0.15);\n",
              "      fill: #174EA6;\n",
              "    }\n",
              "\n",
              "    [theme=dark] .colab-df-convert {\n",
              "      background-color: #3B4455;\n",
              "      fill: #D2E3FC;\n",
              "    }\n",
              "\n",
              "    [theme=dark] .colab-df-convert:hover {\n",
              "      background-color: #434B5C;\n",
              "      box-shadow: 0px 1px 3px 1px rgba(0, 0, 0, 0.15);\n",
              "      filter: drop-shadow(0px 1px 2px rgba(0, 0, 0, 0.3));\n",
              "      fill: #FFFFFF;\n",
              "    }\n",
              "  </style>\n",
              "\n",
              "      <script>\n",
              "        const buttonEl =\n",
              "          document.querySelector('#df-d36da0a4-6cae-4fb7-9c1d-357953d5bfa6 button.colab-df-convert');\n",
              "        buttonEl.style.display =\n",
              "          google.colab.kernel.accessAllowed ? 'block' : 'none';\n",
              "\n",
              "        async function convertToInteractive(key) {\n",
              "          const element = document.querySelector('#df-d36da0a4-6cae-4fb7-9c1d-357953d5bfa6');\n",
              "          const dataTable =\n",
              "            await google.colab.kernel.invokeFunction('convertToInteractive',\n",
              "                                                     [key], {});\n",
              "          if (!dataTable) return;\n",
              "\n",
              "          const docLinkHtml = 'Like what you see? Visit the ' +\n",
              "            '<a target=\"_blank\" href=https://colab.research.google.com/notebooks/data_table.ipynb>data table notebook</a>'\n",
              "            + ' to learn more about interactive tables.';\n",
              "          element.innerHTML = '';\n",
              "          dataTable['output_type'] = 'display_data';\n",
              "          await google.colab.output.renderOutput(dataTable, element);\n",
              "          const docLink = document.createElement('div');\n",
              "          docLink.innerHTML = docLinkHtml;\n",
              "          element.appendChild(docLink);\n",
              "        }\n",
              "      </script>\n",
              "    </div>\n",
              "  </div>\n",
              "  "
            ]
          },
          "metadata": {},
          "execution_count": 4
        }
      ],
      "source": [
        "# Celda 1.1\n",
        "bikes.groupby('workingday').total.describe()"
      ]
    },
    {
      "cell_type": "markdown",
      "source": [
        "La varibale ''workingday'' indica si el día del registro del alquiler de las biciletas era un día hábil o no. La variable es 0 si el día no era hábil y 1 si lo era. \n",
        "\n",
        "Podemos observar que hay 3470 registros en días no hábiles y 74120 en días hábiles. También es posible afirmar que en promedio hubo 189 alquileres en días no hábiles y 193 alquileres en día hábiles. \n",
        "\n",
        "Además, podemos ver que el máximo número de rentas en días no hábiles fue 738 y que el mínimo fue de 1, mientras que en días hábiles el máximo fue 977 y el mínimo 1 también. \n",
        "\n",
        "Es posible inferir que se alquilaron más bicicletas en días hábiles que en días no hábiles. \n",
        "\n",
        "Por último, podemos observar que en días no hábiles el 75% de alquileres fue de 304 o menos, mientras que en días hábiles este 75% fue 277 o menos. "
      ],
      "metadata": {
        "id": "gE9Va4fD4rgP"
      }
    },
    {
      "cell_type": "code",
      "execution_count": 5,
      "metadata": {
        "scrolled": true,
        "id": "u6DXEhO89G3u",
        "outputId": "f8a634f5-f688-4383-a7b2-84a44dba8185",
        "colab": {
          "base_uri": "https://localhost:8080/",
          "height": 833
        }
      },
      "outputs": [
        {
          "output_type": "execute_result",
          "data": {
            "text/plain": [
              "      count        mean         std   min     25%    50%     75%    max\n",
              "hour                                                                   \n",
              "0     455.0   55.138462   43.620012   2.0   24.00   41.0   74.50  283.0\n",
              "1     454.0   33.859031   34.112105   1.0   11.00   19.0   46.00  168.0\n",
              "2     448.0   22.899554   26.110267   1.0    5.00   11.0   32.00  119.0\n",
              "3     433.0   11.757506   12.666442   1.0    3.00    6.0   15.00   66.0\n",
              "4     442.0    6.407240    4.217633   1.0    3.00    6.0    9.00   28.0\n",
              "5     452.0   19.767699   12.784293   1.0    8.00   19.0   29.00   57.0\n",
              "6     455.0   76.259341   54.745333   1.0   24.50   75.0  118.00  213.0\n",
              "7     455.0  213.116484  159.207044   1.0   63.00  208.0  334.00  596.0\n",
              "8     455.0  362.769231  231.723065   8.0  133.50  392.0  563.50  839.0\n",
              "9     455.0  221.780220   92.099209  14.0  161.00  217.0  294.50  414.0\n",
              "10    455.0  175.092308  101.807629  17.0  106.00  149.0  218.50  539.0\n",
              "11    455.0  210.674725  127.444294  10.0  123.00  183.0  265.50  647.0\n",
              "12    456.0  256.508772  143.881880   3.0  157.00  234.5  332.00  757.0\n",
              "13    456.0  257.787281  149.167185  11.0  154.00  226.5  329.00  729.0\n",
              "14    456.0  243.442982  147.563199  12.0  144.00  212.0  311.25  730.0\n",
              "15    456.0  254.298246  144.235670   7.0  154.00  232.0  331.00  724.0\n",
              "16    456.0  316.372807  145.664786  11.0  211.75  309.5  421.00  783.0\n",
              "17    456.0  468.765351  223.775485  15.0  277.00  480.5  608.50  970.0\n",
              "18    456.0  430.859649  219.908138  23.0  240.75  422.5  564.00  977.0\n",
              "19    456.0  315.278509  156.641732  11.0  190.00  312.5  416.00  743.0\n",
              "20    456.0  228.517544  116.411565  11.0  136.75  224.0  302.00  551.0\n",
              "21    456.0  173.370614   87.629319   6.0  103.50  171.5  230.00  584.0\n",
              "22    456.0  133.576754   69.844495   9.0   80.00  129.0  175.00  502.0\n",
              "23    456.0   89.508772   51.638004   4.0   52.75   80.0  123.00  256.0"
            ],
            "text/html": [
              "\n",
              "  <div id=\"df-690f59a2-e6ae-4fe0-8cfd-8d318359d1c2\">\n",
              "    <div class=\"colab-df-container\">\n",
              "      <div>\n",
              "<style scoped>\n",
              "    .dataframe tbody tr th:only-of-type {\n",
              "        vertical-align: middle;\n",
              "    }\n",
              "\n",
              "    .dataframe tbody tr th {\n",
              "        vertical-align: top;\n",
              "    }\n",
              "\n",
              "    .dataframe thead th {\n",
              "        text-align: right;\n",
              "    }\n",
              "</style>\n",
              "<table border=\"1\" class=\"dataframe\">\n",
              "  <thead>\n",
              "    <tr style=\"text-align: right;\">\n",
              "      <th></th>\n",
              "      <th>count</th>\n",
              "      <th>mean</th>\n",
              "      <th>std</th>\n",
              "      <th>min</th>\n",
              "      <th>25%</th>\n",
              "      <th>50%</th>\n",
              "      <th>75%</th>\n",
              "      <th>max</th>\n",
              "    </tr>\n",
              "    <tr>\n",
              "      <th>hour</th>\n",
              "      <th></th>\n",
              "      <th></th>\n",
              "      <th></th>\n",
              "      <th></th>\n",
              "      <th></th>\n",
              "      <th></th>\n",
              "      <th></th>\n",
              "      <th></th>\n",
              "    </tr>\n",
              "  </thead>\n",
              "  <tbody>\n",
              "    <tr>\n",
              "      <th>0</th>\n",
              "      <td>455.0</td>\n",
              "      <td>55.138462</td>\n",
              "      <td>43.620012</td>\n",
              "      <td>2.0</td>\n",
              "      <td>24.00</td>\n",
              "      <td>41.0</td>\n",
              "      <td>74.50</td>\n",
              "      <td>283.0</td>\n",
              "    </tr>\n",
              "    <tr>\n",
              "      <th>1</th>\n",
              "      <td>454.0</td>\n",
              "      <td>33.859031</td>\n",
              "      <td>34.112105</td>\n",
              "      <td>1.0</td>\n",
              "      <td>11.00</td>\n",
              "      <td>19.0</td>\n",
              "      <td>46.00</td>\n",
              "      <td>168.0</td>\n",
              "    </tr>\n",
              "    <tr>\n",
              "      <th>2</th>\n",
              "      <td>448.0</td>\n",
              "      <td>22.899554</td>\n",
              "      <td>26.110267</td>\n",
              "      <td>1.0</td>\n",
              "      <td>5.00</td>\n",
              "      <td>11.0</td>\n",
              "      <td>32.00</td>\n",
              "      <td>119.0</td>\n",
              "    </tr>\n",
              "    <tr>\n",
              "      <th>3</th>\n",
              "      <td>433.0</td>\n",
              "      <td>11.757506</td>\n",
              "      <td>12.666442</td>\n",
              "      <td>1.0</td>\n",
              "      <td>3.00</td>\n",
              "      <td>6.0</td>\n",
              "      <td>15.00</td>\n",
              "      <td>66.0</td>\n",
              "    </tr>\n",
              "    <tr>\n",
              "      <th>4</th>\n",
              "      <td>442.0</td>\n",
              "      <td>6.407240</td>\n",
              "      <td>4.217633</td>\n",
              "      <td>1.0</td>\n",
              "      <td>3.00</td>\n",
              "      <td>6.0</td>\n",
              "      <td>9.00</td>\n",
              "      <td>28.0</td>\n",
              "    </tr>\n",
              "    <tr>\n",
              "      <th>5</th>\n",
              "      <td>452.0</td>\n",
              "      <td>19.767699</td>\n",
              "      <td>12.784293</td>\n",
              "      <td>1.0</td>\n",
              "      <td>8.00</td>\n",
              "      <td>19.0</td>\n",
              "      <td>29.00</td>\n",
              "      <td>57.0</td>\n",
              "    </tr>\n",
              "    <tr>\n",
              "      <th>6</th>\n",
              "      <td>455.0</td>\n",
              "      <td>76.259341</td>\n",
              "      <td>54.745333</td>\n",
              "      <td>1.0</td>\n",
              "      <td>24.50</td>\n",
              "      <td>75.0</td>\n",
              "      <td>118.00</td>\n",
              "      <td>213.0</td>\n",
              "    </tr>\n",
              "    <tr>\n",
              "      <th>7</th>\n",
              "      <td>455.0</td>\n",
              "      <td>213.116484</td>\n",
              "      <td>159.207044</td>\n",
              "      <td>1.0</td>\n",
              "      <td>63.00</td>\n",
              "      <td>208.0</td>\n",
              "      <td>334.00</td>\n",
              "      <td>596.0</td>\n",
              "    </tr>\n",
              "    <tr>\n",
              "      <th>8</th>\n",
              "      <td>455.0</td>\n",
              "      <td>362.769231</td>\n",
              "      <td>231.723065</td>\n",
              "      <td>8.0</td>\n",
              "      <td>133.50</td>\n",
              "      <td>392.0</td>\n",
              "      <td>563.50</td>\n",
              "      <td>839.0</td>\n",
              "    </tr>\n",
              "    <tr>\n",
              "      <th>9</th>\n",
              "      <td>455.0</td>\n",
              "      <td>221.780220</td>\n",
              "      <td>92.099209</td>\n",
              "      <td>14.0</td>\n",
              "      <td>161.00</td>\n",
              "      <td>217.0</td>\n",
              "      <td>294.50</td>\n",
              "      <td>414.0</td>\n",
              "    </tr>\n",
              "    <tr>\n",
              "      <th>10</th>\n",
              "      <td>455.0</td>\n",
              "      <td>175.092308</td>\n",
              "      <td>101.807629</td>\n",
              "      <td>17.0</td>\n",
              "      <td>106.00</td>\n",
              "      <td>149.0</td>\n",
              "      <td>218.50</td>\n",
              "      <td>539.0</td>\n",
              "    </tr>\n",
              "    <tr>\n",
              "      <th>11</th>\n",
              "      <td>455.0</td>\n",
              "      <td>210.674725</td>\n",
              "      <td>127.444294</td>\n",
              "      <td>10.0</td>\n",
              "      <td>123.00</td>\n",
              "      <td>183.0</td>\n",
              "      <td>265.50</td>\n",
              "      <td>647.0</td>\n",
              "    </tr>\n",
              "    <tr>\n",
              "      <th>12</th>\n",
              "      <td>456.0</td>\n",
              "      <td>256.508772</td>\n",
              "      <td>143.881880</td>\n",
              "      <td>3.0</td>\n",
              "      <td>157.00</td>\n",
              "      <td>234.5</td>\n",
              "      <td>332.00</td>\n",
              "      <td>757.0</td>\n",
              "    </tr>\n",
              "    <tr>\n",
              "      <th>13</th>\n",
              "      <td>456.0</td>\n",
              "      <td>257.787281</td>\n",
              "      <td>149.167185</td>\n",
              "      <td>11.0</td>\n",
              "      <td>154.00</td>\n",
              "      <td>226.5</td>\n",
              "      <td>329.00</td>\n",
              "      <td>729.0</td>\n",
              "    </tr>\n",
              "    <tr>\n",
              "      <th>14</th>\n",
              "      <td>456.0</td>\n",
              "      <td>243.442982</td>\n",
              "      <td>147.563199</td>\n",
              "      <td>12.0</td>\n",
              "      <td>144.00</td>\n",
              "      <td>212.0</td>\n",
              "      <td>311.25</td>\n",
              "      <td>730.0</td>\n",
              "    </tr>\n",
              "    <tr>\n",
              "      <th>15</th>\n",
              "      <td>456.0</td>\n",
              "      <td>254.298246</td>\n",
              "      <td>144.235670</td>\n",
              "      <td>7.0</td>\n",
              "      <td>154.00</td>\n",
              "      <td>232.0</td>\n",
              "      <td>331.00</td>\n",
              "      <td>724.0</td>\n",
              "    </tr>\n",
              "    <tr>\n",
              "      <th>16</th>\n",
              "      <td>456.0</td>\n",
              "      <td>316.372807</td>\n",
              "      <td>145.664786</td>\n",
              "      <td>11.0</td>\n",
              "      <td>211.75</td>\n",
              "      <td>309.5</td>\n",
              "      <td>421.00</td>\n",
              "      <td>783.0</td>\n",
              "    </tr>\n",
              "    <tr>\n",
              "      <th>17</th>\n",
              "      <td>456.0</td>\n",
              "      <td>468.765351</td>\n",
              "      <td>223.775485</td>\n",
              "      <td>15.0</td>\n",
              "      <td>277.00</td>\n",
              "      <td>480.5</td>\n",
              "      <td>608.50</td>\n",
              "      <td>970.0</td>\n",
              "    </tr>\n",
              "    <tr>\n",
              "      <th>18</th>\n",
              "      <td>456.0</td>\n",
              "      <td>430.859649</td>\n",
              "      <td>219.908138</td>\n",
              "      <td>23.0</td>\n",
              "      <td>240.75</td>\n",
              "      <td>422.5</td>\n",
              "      <td>564.00</td>\n",
              "      <td>977.0</td>\n",
              "    </tr>\n",
              "    <tr>\n",
              "      <th>19</th>\n",
              "      <td>456.0</td>\n",
              "      <td>315.278509</td>\n",
              "      <td>156.641732</td>\n",
              "      <td>11.0</td>\n",
              "      <td>190.00</td>\n",
              "      <td>312.5</td>\n",
              "      <td>416.00</td>\n",
              "      <td>743.0</td>\n",
              "    </tr>\n",
              "    <tr>\n",
              "      <th>20</th>\n",
              "      <td>456.0</td>\n",
              "      <td>228.517544</td>\n",
              "      <td>116.411565</td>\n",
              "      <td>11.0</td>\n",
              "      <td>136.75</td>\n",
              "      <td>224.0</td>\n",
              "      <td>302.00</td>\n",
              "      <td>551.0</td>\n",
              "    </tr>\n",
              "    <tr>\n",
              "      <th>21</th>\n",
              "      <td>456.0</td>\n",
              "      <td>173.370614</td>\n",
              "      <td>87.629319</td>\n",
              "      <td>6.0</td>\n",
              "      <td>103.50</td>\n",
              "      <td>171.5</td>\n",
              "      <td>230.00</td>\n",
              "      <td>584.0</td>\n",
              "    </tr>\n",
              "    <tr>\n",
              "      <th>22</th>\n",
              "      <td>456.0</td>\n",
              "      <td>133.576754</td>\n",
              "      <td>69.844495</td>\n",
              "      <td>9.0</td>\n",
              "      <td>80.00</td>\n",
              "      <td>129.0</td>\n",
              "      <td>175.00</td>\n",
              "      <td>502.0</td>\n",
              "    </tr>\n",
              "    <tr>\n",
              "      <th>23</th>\n",
              "      <td>456.0</td>\n",
              "      <td>89.508772</td>\n",
              "      <td>51.638004</td>\n",
              "      <td>4.0</td>\n",
              "      <td>52.75</td>\n",
              "      <td>80.0</td>\n",
              "      <td>123.00</td>\n",
              "      <td>256.0</td>\n",
              "    </tr>\n",
              "  </tbody>\n",
              "</table>\n",
              "</div>\n",
              "      <button class=\"colab-df-convert\" onclick=\"convertToInteractive('df-690f59a2-e6ae-4fe0-8cfd-8d318359d1c2')\"\n",
              "              title=\"Convert this dataframe to an interactive table.\"\n",
              "              style=\"display:none;\">\n",
              "        \n",
              "  <svg xmlns=\"http://www.w3.org/2000/svg\" height=\"24px\"viewBox=\"0 0 24 24\"\n",
              "       width=\"24px\">\n",
              "    <path d=\"M0 0h24v24H0V0z\" fill=\"none\"/>\n",
              "    <path d=\"M18.56 5.44l.94 2.06.94-2.06 2.06-.94-2.06-.94-.94-2.06-.94 2.06-2.06.94zm-11 1L8.5 8.5l.94-2.06 2.06-.94-2.06-.94L8.5 2.5l-.94 2.06-2.06.94zm10 10l.94 2.06.94-2.06 2.06-.94-2.06-.94-.94-2.06-.94 2.06-2.06.94z\"/><path d=\"M17.41 7.96l-1.37-1.37c-.4-.4-.92-.59-1.43-.59-.52 0-1.04.2-1.43.59L10.3 9.45l-7.72 7.72c-.78.78-.78 2.05 0 2.83L4 21.41c.39.39.9.59 1.41.59.51 0 1.02-.2 1.41-.59l7.78-7.78 2.81-2.81c.8-.78.8-2.07 0-2.86zM5.41 20L4 18.59l7.72-7.72 1.47 1.35L5.41 20z\"/>\n",
              "  </svg>\n",
              "      </button>\n",
              "      \n",
              "  <style>\n",
              "    .colab-df-container {\n",
              "      display:flex;\n",
              "      flex-wrap:wrap;\n",
              "      gap: 12px;\n",
              "    }\n",
              "\n",
              "    .colab-df-convert {\n",
              "      background-color: #E8F0FE;\n",
              "      border: none;\n",
              "      border-radius: 50%;\n",
              "      cursor: pointer;\n",
              "      display: none;\n",
              "      fill: #1967D2;\n",
              "      height: 32px;\n",
              "      padding: 0 0 0 0;\n",
              "      width: 32px;\n",
              "    }\n",
              "\n",
              "    .colab-df-convert:hover {\n",
              "      background-color: #E2EBFA;\n",
              "      box-shadow: 0px 1px 2px rgba(60, 64, 67, 0.3), 0px 1px 3px 1px rgba(60, 64, 67, 0.15);\n",
              "      fill: #174EA6;\n",
              "    }\n",
              "\n",
              "    [theme=dark] .colab-df-convert {\n",
              "      background-color: #3B4455;\n",
              "      fill: #D2E3FC;\n",
              "    }\n",
              "\n",
              "    [theme=dark] .colab-df-convert:hover {\n",
              "      background-color: #434B5C;\n",
              "      box-shadow: 0px 1px 3px 1px rgba(0, 0, 0, 0.15);\n",
              "      filter: drop-shadow(0px 1px 2px rgba(0, 0, 0, 0.3));\n",
              "      fill: #FFFFFF;\n",
              "    }\n",
              "  </style>\n",
              "\n",
              "      <script>\n",
              "        const buttonEl =\n",
              "          document.querySelector('#df-690f59a2-e6ae-4fe0-8cfd-8d318359d1c2 button.colab-df-convert');\n",
              "        buttonEl.style.display =\n",
              "          google.colab.kernel.accessAllowed ? 'block' : 'none';\n",
              "\n",
              "        async function convertToInteractive(key) {\n",
              "          const element = document.querySelector('#df-690f59a2-e6ae-4fe0-8cfd-8d318359d1c2');\n",
              "          const dataTable =\n",
              "            await google.colab.kernel.invokeFunction('convertToInteractive',\n",
              "                                                     [key], {});\n",
              "          if (!dataTable) return;\n",
              "\n",
              "          const docLinkHtml = 'Like what you see? Visit the ' +\n",
              "            '<a target=\"_blank\" href=https://colab.research.google.com/notebooks/data_table.ipynb>data table notebook</a>'\n",
              "            + ' to learn more about interactive tables.';\n",
              "          element.innerHTML = '';\n",
              "          dataTable['output_type'] = 'display_data';\n",
              "          await google.colab.output.renderOutput(dataTable, element);\n",
              "          const docLink = document.createElement('div');\n",
              "          docLink.innerHTML = docLinkHtml;\n",
              "          element.appendChild(docLink);\n",
              "        }\n",
              "      </script>\n",
              "    </div>\n",
              "  </div>\n",
              "  "
            ]
          },
          "metadata": {},
          "execution_count": 5
        }
      ],
      "source": [
        "# Celda 1.2\n",
        "bikes.groupby('hour').total.describe()"
      ]
    },
    {
      "cell_type": "markdown",
      "source": [
        "La variable ''hour'' representa la hora del día de los alquileres. la variable toma el valor de 0 para las 00:00:00 horas y 23 para las 23:00:00 horas. \n",
        "\n",
        "De esta variable podemos observar que la media del alquiler más alta se dio a las 17:00:00 horas, es decir a las 5 de la tarde. También es posible ver que apoximadamente a las 8 horas y a las 17 hay más alquileres. Probablemente porque son las horas donde las personas salen y vuelven a sus hogares. \n",
        "\n",
        "Por último, observamos también que a las 5 de la tarde, el 75% de alquileres corresponde a aproximadamente 608 o menos, siendo este el valor más alto del percentil 75 de todas las horas del día. \n"
      ],
      "metadata": {
        "id": "s5usUrUQXDda"
      }
    },
    {
      "cell_type": "markdown",
      "metadata": {
        "id": "JDVMtnq99G3u"
      },
      "source": [
        "### Punto 2 - Análisis de gráficos\n",
        "\n",
        "Primero ejecute la celda 2.1 y asegúrese de comprender el código y el resultado. Luego, en cada una de celdas 2.2 y 2.3 escriba un código que genere una gráfica de las rentas promedio por hora cuando la variable \"workingday\" es igual a 0 e igual a 1, respectivamente. Analice y escriba sus hallazgos."
      ]
    },
    {
      "cell_type": "code",
      "execution_count": 6,
      "metadata": {
        "id": "kEpXetci9G3v",
        "colab": {
          "base_uri": "https://localhost:8080/",
          "height": 296
        },
        "outputId": "a270ec24-ea57-4e34-f54b-a328c427a671"
      },
      "outputs": [
        {
          "output_type": "execute_result",
          "data": {
            "text/plain": [
              "<matplotlib.axes._subplots.AxesSubplot at 0x7f800a9a7190>"
            ]
          },
          "metadata": {},
          "execution_count": 6
        },
        {
          "output_type": "display_data",
          "data": {
            "text/plain": [
              "<Figure size 432x288 with 1 Axes>"
            ],
            "image/png": "[encoded data removed]"
          },
          "metadata": {
            "needs_background": "light"
          }
        }
      ],
      "source": [
        "# Celda 2.1 - rentas promedio para cada valor de la variable \"hour\"\n",
        "bikes.groupby('hour').total.mean().plot()"
      ]
    },
    {
      "cell_type": "markdown",
      "source": [
        "En esta gráfica, podemos ver las rentas promedio para cada valor de la variable \"hour\" que es practicamente una representación de la media de la información descriptiva que habíamos encontrado en el punto anterior. \n",
        "\n",
        "Podemos observar que la media del alquiler más alta se dio a las 17:00:00 horas, y que apoximadamente a las 8 horas y a las 17 hay más promedio de alquileres. Probablemente porque son las horas donde las personas salen y vuelven a sus hogares."
      ],
      "metadata": {
        "id": "8q9Z0lxtiiS2"
      }
    },
    {
      "cell_type": "code",
      "execution_count": 7,
      "metadata": {
        "id": "u2GxpA989G3v",
        "colab": {
          "base_uri": "https://localhost:8080/",
          "height": 298
        },
        "outputId": "6934359e-3159-4d81-b020-77ca81038af4"
      },
      "outputs": [
        {
          "output_type": "execute_result",
          "data": {
            "text/plain": [
              "<matplotlib.axes._subplots.AxesSubplot at 0x7f800a8a9550>"
            ]
          },
          "metadata": {},
          "execution_count": 7
        },
        {
          "output_type": "display_data",
          "data": {
            "text/plain": [
              "<Figure size 432x288 with 1 Axes>"
            ],
            "image/png": "[encoded data removed]"
          },
          "metadata": {
            "needs_background": "light"
          }
        }
      ],
      "source": [
        "# Celda 2.2 - \"workingday\"=0 escriba su código y hallazgos\n",
        "bikes_0=bikes[bikes['workingday']==0]\n",
        "bikes_0.groupby('hour').total.mean().plot()"
      ]
    },
    {
      "cell_type": "markdown",
      "source": [
        "En esta gráfica podemos ver las rentas promedio para cada valor de la variable \"hour\" cuando la variable ''workingday'' es igual a 0, es decir cuando no es un día hábil. \n",
        "\n",
        "Podemos observar que el mayor promedio de alquileres en estos días se dio en horas de la tarde, aproximadamente desde las 12 hasta las 17 horas. \n",
        "\n",
        "El menor promedio de alquileres se encontró aproximadamente a las 4 y luego de las 5 empezó a incrementarse. A eso de las 17 horas el promedio de alquileres vuelve a disminiur a medida que van pasando las horas. "
      ],
      "metadata": {
        "id": "-NDEYujihNVX"
      }
    },
    {
      "cell_type": "code",
      "execution_count": 8,
      "metadata": {
        "id": "Cb4dV0c09G3v",
        "colab": {
          "base_uri": "https://localhost:8080/",
          "height": 296
        },
        "outputId": "a5399a85-72a4-4117-b59f-2b70b983633a"
      },
      "outputs": [
        {
          "output_type": "execute_result",
          "data": {
            "text/plain": [
              "<matplotlib.axes._subplots.AxesSubplot at 0x7f800a8a7350>"
            ]
          },
          "metadata": {},
          "execution_count": 8
        },
        {
          "output_type": "display_data",
          "data": {
            "text/plain": [
              "<Figure size 432x288 with 1 Axes>"
            ],
            "image/png": "[encoded data removed]"
          },
          "metadata": {
            "needs_background": "light"
          }
        }
      ],
      "source": [
        "# Celda 2.3 - \"workingday\"=1 escriba su código y hallazgos \n",
        "bikes_1=bikes[bikes['workingday']==1]\n",
        "bikes_1.groupby('hour').total.mean().plot()"
      ]
    },
    {
      "cell_type": "markdown",
      "source": [
        "En esta gráfica podemos ver las rentas promedio para cada valor de la variable \"hour\" cuando la variable ''workingday'' es igual a 1, es decir cuando es un día hábil.\n",
        "\n",
        "Podemos observar que el mayor promedio de alquileres en estos días se dio en alrededor de las 8 y las 17 horas, muy parecido a la distribución que observamos de la gráfia de rentas promedio para cada valor de la variable \"hour\" para todos los días. Esto puede deberse a que hay más datos para este tipo de días. \n",
        "\n",
        "El menor promedio de alquileres se encontró aproximadamente a las 4 y luego de las 5 empezó a incrementarse hasta alrededor de las 8 donde volvió a bajar hasta las 10. Ahí, se mantuvo con pequeñas variaciones hasta las 15, donde empezó a subir y alcanzó su punto máximo alrededor de las 17 horas, para luego ir bajando a medida que pasaban las horas. "
      ],
      "metadata": {
        "id": "dxN_9yyyjYoX"
      }
    },
    {
      "cell_type": "markdown",
      "metadata": {
        "id": "a8mAVWsF9G3w"
      },
      "source": [
        "### Punto 3 - Regresión lineal\n",
        "En la celda 3 ajuste un modelo de regresión lineal a todo el conjunto de datos, utilizando \"total\" como variable de respuesta y \"hour\" y \"workingday\" como las únicas variables predictoras. Luego, imprima los coeficientes e interprételos. ¿Cuáles son las limitaciones de la regresión lineal en este caso?"
      ]
    },
    {
      "cell_type": "code",
      "execution_count": 84,
      "metadata": {
        "id": "8xsgmiBo9G3w",
        "colab": {
          "base_uri": "https://localhost:8080/"
        },
        "outputId": "4de50b48-9eb4-4a6b-bb43-e94e0e7641e2"
      },
      "outputs": [
        {
          "output_type": "stream",
          "name": "stdout",
          "text": [
            "Score:  0.16059115011434866\n",
            "Coeficientes:  [ 4.07248627 10.49206282]\n",
            "Intercepto:  67.70595026191623\n"
          ]
        }
      ],
      "source": [
        "# Celda 3\n",
        "X = bikes.loc[:,['workingday','hour']].reset_index(drop=True)\n",
        "y = bikes['total'].reset_index(drop=True)\n",
        "\n",
        "#Regresion lineal\n",
        "reg = LinearRegression().fit(X, y)\n",
        "print('Score: ', reg.score(X, y))\n",
        "print('Coeficientes: ', reg.coef_)\n",
        "print('Intercepto: ', reg.intercept_)"
      ]
    },
    {
      "cell_type": "code",
      "source": [
        "plt.scatter(X['workingday'], y)"
      ],
      "metadata": {
        "colab": {
          "base_uri": "https://localhost:8080/",
          "height": 282
        },
        "id": "vG_64reI_VD5",
        "outputId": "b1ba3796-abfa-4563-8182-d8c3e212cb9e"
      },
      "execution_count": 10,
      "outputs": [
        {
          "output_type": "execute_result",
          "data": {
            "text/plain": [
              "<matplotlib.collections.PathCollection at 0x7f8005b1d910>"
            ]
          },
          "metadata": {},
          "execution_count": 10
        },
        {
          "output_type": "display_data",
          "data": {
            "text/plain": [
              "<Figure size 432x288 with 1 Axes>"
            ],
            "image/png": "[encoded data removed]"
          },
          "metadata": {
            "needs_background": "light"
          }
        }
      ]
    },
    {
      "cell_type": "code",
      "source": [
        "plt.scatter(X['hour'], y)"
      ],
      "metadata": {
        "colab": {
          "base_uri": "https://localhost:8080/",
          "height": 282
        },
        "id": "o3r0C99q_gvo",
        "outputId": "4359d058-1119-4494-fcc8-8bc8551ec24d"
      },
      "execution_count": 11,
      "outputs": [
        {
          "output_type": "execute_result",
          "data": {
            "text/plain": [
              "<matplotlib.collections.PathCollection at 0x7f8005b1d650>"
            ]
          },
          "metadata": {},
          "execution_count": 11
        },
        {
          "output_type": "display_data",
          "data": {
            "text/plain": [
              "<Figure size 432x288 with 1 Axes>"
            ],
            "image/png": "[encoded data removed]"
          },
          "metadata": {
            "needs_background": "light"
          }
        }
      ]
    },
    {
      "cell_type": "markdown",
      "source": [
        "Podemos ver que los coeficientes de la regresión líneal son 4.07 y 10.49 en este caso. Por tando, podemos decir que hay una correlación positiva entre cada predictor y la variable dependiente. \n",
        "\n",
        "Sin embargo, es posible también observar que el score o el coeficiente de determinación de la predicción obtenido es bastante bajo. Por lo que podemos concluir que un modelo de regresión líneal no se adapta muy bien a este caso pues no se ajusta a los datos. "
      ],
      "metadata": {
        "id": "YdiwX2-J0JrB"
      }
    },
    {
      "cell_type": "markdown",
      "metadata": {
        "id": "6j48Jj8t9G3w"
      },
      "source": [
        "### Punto 4 - Árbol de decisión manual\n",
        "En la celda 4 cree un árbol de decisiones para pronosticar la variable \"total\" iterando **manualmente** sobre las variables \"hour\" y  \"workingday\". El árbol debe tener al menos 6 nodos finales."
      ]
    },
    {
      "cell_type": "code",
      "source": [
        "# Celda 4\n",
        "# Definición de la función que calcula residuals \n",
        "def residuals(y):\n",
        "  return y-np.mean(y)\n",
        "\n",
        "# Definición de la función mse_impurity para calular la ganancia de una variable predictora j dado el punto de corte k\n",
        "def mse_impurity(X_col, y, split):\n",
        "    \n",
        "    filter_l = X_col < split\n",
        "    y_l = y.loc[filter_l]\n",
        "    y_r = y.loc[~filter_l]\n",
        "    \n",
        "    res_l = residuals(y_l)\n",
        "    res_r = residuals(y_r)\n",
        "\n",
        "    res=np.concatenate((res_l, res_r), axis=None)\n",
        "    n = len(res)\n",
        "    r = res ** 2\n",
        "    r = np.sum(r)\n",
        "    \n",
        "    mse_impurity_ =  r / n\n",
        "    \n",
        "    return mse_impurity_\n",
        "\n",
        "# Definición de la función best_split para calcular cuál es la mejor variable y punto de corte para hacer la bifurcación del árbol\n",
        "def best_split(X, y, num_pct):\n",
        "  features = range(X.shape[1])\n",
        "    \n",
        "  best_split = [0, 0, 0]  # j, split, gain\n",
        "  gainarr=[]\n",
        "    \n",
        "  # Para todas las varibles \n",
        "  for j in features:\n",
        "        \n",
        "      splits = np.percentile(X.iloc[:, j], np.arange(0, 100, 100.0 / (num_pct+1)).tolist())\n",
        "      splits = np.unique(splits)\n",
        "      \n",
        "  \n",
        "      # Para cada partición\n",
        "      for split in splits:\n",
        "          gain = mse_impurity(X.iloc[:, j], y, split)\n",
        "          gainarr.append(gain)\n",
        "          \n",
        "          if gain == min(gainarr):\n",
        "            best_split = [j, split, gain]\n",
        "  \n",
        "\n",
        "  return best_split\n",
        "\n",
        "# Definición de la función tree_grow para hacer un crecimiento recursivo del árbol\n",
        "def tree_grow(X, y, level=0, min_gain=0.001, max_depth=None, num_pct=10):\n",
        "    \n",
        "    # Si solo es una observación\n",
        "    if X.shape[0] == 1:\n",
        "        tree = dict(y_pred=y.iloc[:1].values[0], y_prob=0.5, level=level, split=-1, n_samples=1, gain=0)\n",
        "        return tree\n",
        "    \n",
        "    # Calcular la mejor división\n",
        "    j, split, gain = best_split(X, y, num_pct)\n",
        "    \n",
        "    # Guardar el árbol y estimar la predicción\n",
        "    y_pred = int(y.mean() >= 0.5) \n",
        "    y_prob = (y.sum() + 1.0) / (y.shape[0] + 2.0) \n",
        "    \n",
        "    tree = dict(y_pred=y_pred, y_prob=y_prob, level=level, split=-1, n_samples=X.shape[0], gain=gain)\n",
        "    # Revisar el criterio de parada \n",
        "    if gain < min_gain:\n",
        "        return tree\n",
        "    if max_depth is not None:\n",
        "        if level >= max_depth:\n",
        "            return tree   \n",
        "    \n",
        "    # Continuar creando la partición\n",
        "    filter_l = X.iloc[:, j] < split\n",
        "    X_l, y_l = X.loc[filter_l], y.loc[filter_l]\n",
        "    X_r, y_r = X.loc[~filter_l], y.loc[~filter_l]\n",
        "    tree['split'] = [j, split]\n",
        "\n",
        "    # Siguiente iteración para cada partición\n",
        "    \n",
        "    tree['sl'] = tree_grow(X_l, y_l, level + 1, min_gain=min_gain, max_depth=max_depth, num_pct=num_pct)\n",
        "    tree['sr'] = tree_grow(X_r, y_r, level + 1, min_gain=min_gain, max_depth=max_depth, num_pct=num_pct)\n",
        "    \n",
        "    return tree"
      ],
      "metadata": {
        "id": "JNLAZY3VHrFK"
      },
      "execution_count": 14,
      "outputs": []
    },
    {
      "cell_type": "code",
      "source": [
        "tree = tree_grow(X, y, level=0, min_gain=0.001, max_depth=3, num_pct=10)\n",
        "tree"
      ],
      "metadata": {
        "colab": {
          "base_uri": "https://localhost:8080/"
        },
        "id": "2BZ_-7PiqCC-",
        "outputId": "877a8843-451d-4b18-b17e-96a5829ac5c4"
      },
      "execution_count": 76,
      "outputs": [
        {
          "output_type": "execute_result",
          "data": {
            "text/plain": [
              "{'gain': 23675.892974467795,\n",
              " 'level': 0,\n",
              " 'n_samples': 10886,\n",
              " 'sl': {'gain': 4569.219380357905,\n",
              "  'level': 1,\n",
              "  'n_samples': 3594,\n",
              "  'sl': {'gain': 1242.1585299291187,\n",
              "   'level': 2,\n",
              "   'n_samples': 3139,\n",
              "   'sl': {'gain': 754.3758482230121,\n",
              "    'level': 3,\n",
              "    'n_samples': 2684,\n",
              "    'split': -1,\n",
              "    'y_pred': 1,\n",
              "    'y_prob': 25.15934475055845},\n",
              "   'split': [1, 6.0],\n",
              "   'sr': {'gain': 1509.6453517339166,\n",
              "    'level': 3,\n",
              "    'n_samples': 455,\n",
              "    'split': -1,\n",
              "    'y_pred': 1,\n",
              "    'y_prob': 75.92778993435448},\n",
              "   'y_pred': 1,\n",
              "   'y_prob': 32.561604584527224},\n",
              "  'split': [1, 7.0],\n",
              "  'sr': {'gain': 12425.746772115539,\n",
              "   'level': 2,\n",
              "   'n_samples': 455,\n",
              "   'sl': {'gain': 1891.2862782401903,\n",
              "    'level': 3,\n",
              "    'n_samples': 145,\n",
              "    'split': -1,\n",
              "    'y_pred': 1,\n",
              "    'y_prob': 46.63265306122449},\n",
              "   'split': [0, 1.0],\n",
              "   'sr': {'gain': 17353.15571279917,\n",
              "    'level': 3,\n",
              "    'n_samples': 310,\n",
              "    'split': -1,\n",
              "    'y_pred': 1,\n",
              "    'y_prob': 288.83012820512823},\n",
              "   'y_pred': 1,\n",
              "   'y_prob': 212.18599562363238},\n",
              "  'y_pred': 1,\n",
              "  'y_prob': 55.40711902113459},\n",
              " 'split': [1, 8.0],\n",
              " 'sr': {'gain': 27620.29198750477,\n",
              "  'level': 1,\n",
              "  'n_samples': 7292,\n",
              "  'sl': {'gain': 29989.85538226712,\n",
              "   'level': 2,\n",
              "   'n_samples': 5924,\n",
              "   'sl': {'gain': 22452.12068250157,\n",
              "    'level': 3,\n",
              "    'n_samples': 3644,\n",
              "    'split': -1,\n",
              "    'y_pred': 1,\n",
              "    'y_prob': 247.66428963247395},\n",
              "   'split': [1, 16.0],\n",
              "   'sr': {'gain': 34749.713676483785,\n",
              "    'level': 3,\n",
              "    'n_samples': 2280,\n",
              "    'split': -1,\n",
              "    'y_pred': 1,\n",
              "    'y_prob': 351.6507449605609},\n",
              "   'y_pred': 1,\n",
              "   'y_prob': 287.7910901113736},\n",
              "  'split': [1, 21.0],\n",
              "  'sr': {'gain': 5327.341617933723,\n",
              "   'level': 2,\n",
              "   'n_samples': 1368,\n",
              "   'sl': {'gain': 6264.806666474299,\n",
              "    'level': 3,\n",
              "    'n_samples': 912,\n",
              "    'split': -1,\n",
              "    'y_pred': 1,\n",
              "    'y_prob': 153.13894967177242},\n",
              "   'split': [1, 23.0],\n",
              "   'sr': {'gain': 2660.0736620351186,\n",
              "    'level': 3,\n",
              "    'n_samples': 456,\n",
              "    'split': -1,\n",
              "    'y_pred': 1,\n",
              "    'y_prob': 89.12008733624454},\n",
              "   'y_pred': 1,\n",
              "   'y_prob': 131.95985401459853},\n",
              "  'y_pred': 1,\n",
              "  'y_prob': 258.6007677543186},\n",
              " 'y_pred': 1,\n",
              " 'y_prob': 191.53903379867745}"
            ]
          },
          "metadata": {},
          "execution_count": 76
        }
      ]
    },
    {
      "cell_type": "markdown",
      "metadata": {
        "id": "MCJAidaE9G3w"
      },
      "source": [
        "### Punto 5 - Árbol de decisión con librería\n",
        "En la celda 5 entrene un árbol de decisiones con la **librería sklearn**, usando las variables predictoras \"hour\" y \"workingday\" y calibre los parámetros que considere conveniente para obtener un mejor desempeño. Comente el desempeño del modelo con alguna métrica de desempeño de modelos de clasificación y compare desempeño con el modelo del punto 3."
      ]
    },
    {
      "cell_type": "code",
      "execution_count": 85,
      "metadata": {
        "id": "_0U4jPZZ9G3x",
        "colab": {
          "base_uri": "https://localhost:8080/",
          "height": 458
        },
        "outputId": "b2fb77cc-e29e-4eeb-f912-66070bc3383e"
      },
      "outputs": [
        {
          "output_type": "stream",
          "name": "stdout",
          "text": [
            "Precisión del modelo:\n",
            "0.6512896280920657\n"
          ]
        },
        {
          "output_type": "execute_result",
          "data": {
            "text/plain": [
              "       Real Values  Predicted Values\n",
              "3709           308        321.701923\n",
              "6741            14          8.624000\n",
              "9848           539        320.070707\n",
              "1410           143        199.282158\n",
              "10672            1          8.048889\n",
              "...            ...               ...\n",
              "5096            50        133.737288\n",
              "7007           384        283.934783\n",
              "6813            24         24.609756\n",
              "301             14         37.333333\n",
              "374              8         53.618644\n",
              "\n",
              "[2722 rows x 2 columns]"
            ],
            "text/html": [
              "\n",
              "  <div id=\"df-edaad714-f8cf-4e8c-a4d4-7c07fb99a8bd\">\n",
              "    <div class=\"colab-df-container\">\n",
              "      <div>\n",
              "<style scoped>\n",
              "    .dataframe tbody tr th:only-of-type {\n",
              "        vertical-align: middle;\n",
              "    }\n",
              "\n",
              "    .dataframe tbody tr th {\n",
              "        vertical-align: top;\n",
              "    }\n",
              "\n",
              "    .dataframe thead th {\n",
              "        text-align: right;\n",
              "    }\n",
              "</style>\n",
              "<table border=\"1\" class=\"dataframe\">\n",
              "  <thead>\n",
              "    <tr style=\"text-align: right;\">\n",
              "      <th></th>\n",
              "      <th>Real Values</th>\n",
              "      <th>Predicted Values</th>\n",
              "    </tr>\n",
              "  </thead>\n",
              "  <tbody>\n",
              "    <tr>\n",
              "      <th>3709</th>\n",
              "      <td>308</td>\n",
              "      <td>321.701923</td>\n",
              "    </tr>\n",
              "    <tr>\n",
              "      <th>6741</th>\n",
              "      <td>14</td>\n",
              "      <td>8.624000</td>\n",
              "    </tr>\n",
              "    <tr>\n",
              "      <th>9848</th>\n",
              "      <td>539</td>\n",
              "      <td>320.070707</td>\n",
              "    </tr>\n",
              "    <tr>\n",
              "      <th>1410</th>\n",
              "      <td>143</td>\n",
              "      <td>199.282158</td>\n",
              "    </tr>\n",
              "    <tr>\n",
              "      <th>10672</th>\n",
              "      <td>1</td>\n",
              "      <td>8.048889</td>\n",
              "    </tr>\n",
              "    <tr>\n",
              "      <th>...</th>\n",
              "      <td>...</td>\n",
              "      <td>...</td>\n",
              "    </tr>\n",
              "    <tr>\n",
              "      <th>5096</th>\n",
              "      <td>50</td>\n",
              "      <td>133.737288</td>\n",
              "    </tr>\n",
              "    <tr>\n",
              "      <th>7007</th>\n",
              "      <td>384</td>\n",
              "      <td>283.934783</td>\n",
              "    </tr>\n",
              "    <tr>\n",
              "      <th>6813</th>\n",
              "      <td>24</td>\n",
              "      <td>24.609756</td>\n",
              "    </tr>\n",
              "    <tr>\n",
              "      <th>301</th>\n",
              "      <td>14</td>\n",
              "      <td>37.333333</td>\n",
              "    </tr>\n",
              "    <tr>\n",
              "      <th>374</th>\n",
              "      <td>8</td>\n",
              "      <td>53.618644</td>\n",
              "    </tr>\n",
              "  </tbody>\n",
              "</table>\n",
              "<p>2722 rows × 2 columns</p>\n",
              "</div>\n",
              "      <button class=\"colab-df-convert\" onclick=\"convertToInteractive('df-edaad714-f8cf-4e8c-a4d4-7c07fb99a8bd')\"\n",
              "              title=\"Convert this dataframe to an interactive table.\"\n",
              "              style=\"display:none;\">\n",
              "        \n",
              "  <svg xmlns=\"http://www.w3.org/2000/svg\" height=\"24px\"viewBox=\"0 0 24 24\"\n",
              "       width=\"24px\">\n",
              "    <path d=\"M0 0h24v24H0V0z\" fill=\"none\"/>\n",
              "    <path d=\"M18.56 5.44l.94 2.06.94-2.06 2.06-.94-2.06-.94-.94-2.06-.94 2.06-2.06.94zm-11 1L8.5 8.5l.94-2.06 2.06-.94-2.06-.94L8.5 2.5l-.94 2.06-2.06.94zm10 10l.94 2.06.94-2.06 2.06-.94-2.06-.94-.94-2.06-.94 2.06-2.06.94z\"/><path d=\"M17.41 7.96l-1.37-1.37c-.4-.4-.92-.59-1.43-.59-.52 0-1.04.2-1.43.59L10.3 9.45l-7.72 7.72c-.78.78-.78 2.05 0 2.83L4 21.41c.39.39.9.59 1.41.59.51 0 1.02-.2 1.41-.59l7.78-7.78 2.81-2.81c.8-.78.8-2.07 0-2.86zM5.41 20L4 18.59l7.72-7.72 1.47 1.35L5.41 20z\"/>\n",
              "  </svg>\n",
              "      </button>\n",
              "      \n",
              "  <style>\n",
              "    .colab-df-container {\n",
              "      display:flex;\n",
              "      flex-wrap:wrap;\n",
              "      gap: 12px;\n",
              "    }\n",
              "\n",
              "    .colab-df-convert {\n",
              "      background-color: #E8F0FE;\n",
              "      border: none;\n",
              "      border-radius: 50%;\n",
              "      cursor: pointer;\n",
              "      display: none;\n",
              "      fill: #1967D2;\n",
              "      height: 32px;\n",
              "      padding: 0 0 0 0;\n",
              "      width: 32px;\n",
              "    }\n",
              "\n",
              "    .colab-df-convert:hover {\n",
              "      background-color: #E2EBFA;\n",
              "      box-shadow: 0px 1px 2px rgba(60, 64, 67, 0.3), 0px 1px 3px 1px rgba(60, 64, 67, 0.15);\n",
              "      fill: #174EA6;\n",
              "    }\n",
              "\n",
              "    [theme=dark] .colab-df-convert {\n",
              "      background-color: #3B4455;\n",
              "      fill: #D2E3FC;\n",
              "    }\n",
              "\n",
              "    [theme=dark] .colab-df-convert:hover {\n",
              "      background-color: #434B5C;\n",
              "      box-shadow: 0px 1px 3px 1px rgba(0, 0, 0, 0.15);\n",
              "      filter: drop-shadow(0px 1px 2px rgba(0, 0, 0, 0.3));\n",
              "      fill: #FFFFFF;\n",
              "    }\n",
              "  </style>\n",
              "\n",
              "      <script>\n",
              "        const buttonEl =\n",
              "          document.querySelector('#df-edaad714-f8cf-4e8c-a4d4-7c07fb99a8bd button.colab-df-convert');\n",
              "        buttonEl.style.display =\n",
              "          google.colab.kernel.accessAllowed ? 'block' : 'none';\n",
              "\n",
              "        async function convertToInteractive(key) {\n",
              "          const element = document.querySelector('#df-edaad714-f8cf-4e8c-a4d4-7c07fb99a8bd');\n",
              "          const dataTable =\n",
              "            await google.colab.kernel.invokeFunction('convertToInteractive',\n",
              "                                                     [key], {});\n",
              "          if (!dataTable) return;\n",
              "\n",
              "          const docLinkHtml = 'Like what you see? Visit the ' +\n",
              "            '<a target=\"_blank\" href=https://colab.research.google.com/notebooks/data_table.ipynb>data table notebook</a>'\n",
              "            + ' to learn more about interactive tables.';\n",
              "          element.innerHTML = '';\n",
              "          dataTable['output_type'] = 'display_data';\n",
              "          await google.colab.output.renderOutput(dataTable, element);\n",
              "          const docLink = document.createElement('div');\n",
              "          docLink.innerHTML = docLinkHtml;\n",
              "          element.appendChild(docLink);\n",
              "        }\n",
              "      </script>\n",
              "    </div>\n",
              "  </div>\n",
              "  "
            ]
          },
          "metadata": {},
          "execution_count": 85
        }
      ],
      "source": [
        "# Celda 5\n",
        "X_train, X_test, y_train, y_test = train_test_split(X, y, random_state=1)\n",
        "regressor = DecisionTreeRegressor()\n",
        "regressor.fit(X_train, y_train)\n",
        "\n",
        "y_pred = regressor.predict(X_test)\n",
        "\n",
        "df = pd.DataFrame({'Real Values':y_test, 'Predicted Values':y_pred})\n",
        "print('Precisión del modelo:')\n",
        "print(regressor.score(X_train, y_train))\n",
        "df"
      ]
    },
    {
      "cell_type": "markdown",
      "source": [
        "Podemos observar que el score o la precisión del modelo obtenida con el árbol de decisión es mayor que la que obtuvimos con la regresión lineal en el punto 3. "
      ],
      "metadata": {
        "id": "0Gx5Ouz4Ag8V"
      }
    },
    {
      "cell_type": "markdown",
      "metadata": {
        "id": "x6kOfLAy9G3x"
      },
      "source": [
        "## Parte B - Métodos de ensamblajes\n",
        "En esta parte del taller se usará el conjunto de datos de Popularidad de Noticias Online. El objetivo es predecir la cantidad de reacciones en redes sociales (popularidad) de la notica. Para más detalles puede visitar el sigueinte enlace: [datos](https://archive.ics.uci.edu/ml/datasets/online+news+popularity)."
      ]
    },
    {
      "cell_type": "markdown",
      "metadata": {
        "id": "RyTouJWn9G3x"
      },
      "source": [
        "### Datos popularidad de noticias"
      ]
    },
    {
      "cell_type": "code",
      "execution_count": 86,
      "metadata": {
        "id": "Ac-1Llju9G3x",
        "colab": {
          "base_uri": "https://localhost:8080/",
          "height": 332
        },
        "outputId": "56261993-0c66-4e4c-847c-254c6d7a44fc"
      },
      "outputs": [
        {
          "output_type": "execute_result",
          "data": {
            "text/plain": [
              "                                                 url  timedelta  \\\n",
              "0  http://mashable.com/2014/12/10/cia-torture-rep...       28.0   \n",
              "1  http://mashable.com/2013/10/18/bitlock-kicksta...      447.0   \n",
              "2  http://mashable.com/2013/07/24/google-glass-po...      533.0   \n",
              "3  http://mashable.com/2013/11/21/these-are-the-m...      413.0   \n",
              "4  http://mashable.com/2014/02/11/parking-ticket-...      331.0   \n",
              "\n",
              "   n_tokens_title  n_tokens_content  n_unique_tokens  n_non_stop_words  \\\n",
              "0             9.0             188.0         0.732620               1.0   \n",
              "1             7.0             297.0         0.653199               1.0   \n",
              "2            11.0             181.0         0.660377               1.0   \n",
              "3            12.0             781.0         0.497409               1.0   \n",
              "4             8.0             177.0         0.685714               1.0   \n",
              "\n",
              "   n_non_stop_unique_tokens  num_hrefs  num_self_hrefs  num_imgs  ...  \\\n",
              "0                  0.844262        5.0             1.0       1.0  ...   \n",
              "1                  0.815789        9.0             4.0       1.0  ...   \n",
              "2                  0.775701        4.0             3.0       1.0  ...   \n",
              "3                  0.677350       10.0             3.0       1.0  ...   \n",
              "4                  0.830357        3.0             2.0       1.0  ...   \n",
              "\n",
              "   min_positive_polarity  max_positive_polarity  avg_negative_polarity  \\\n",
              "0               0.200000                   0.80              -0.487500   \n",
              "1               0.160000                   0.50              -0.135340   \n",
              "2               0.136364                   1.00               0.000000   \n",
              "3               0.100000                   1.00              -0.195701   \n",
              "4               0.100000                   0.55              -0.175000   \n",
              "\n",
              "   min_negative_polarity  max_negative_polarity  title_subjectivity  \\\n",
              "0                  -0.60              -0.250000                 0.9   \n",
              "1                  -0.40              -0.050000                 0.1   \n",
              "2                   0.00               0.000000                 0.3   \n",
              "3                  -0.40              -0.071429                 0.0   \n",
              "4                  -0.25              -0.100000                 0.0   \n",
              "\n",
              "   title_sentiment_polarity  abs_title_subjectivity  \\\n",
              "0                       0.8                     0.4   \n",
              "1                      -0.1                     0.4   \n",
              "2                       1.0                     0.2   \n",
              "3                       0.0                     0.5   \n",
              "4                       0.0                     0.5   \n",
              "\n",
              "   abs_title_sentiment_polarity  Popular  \n",
              "0                           0.8        1  \n",
              "1                           0.1        0  \n",
              "2                           1.0        0  \n",
              "3                           0.0        0  \n",
              "4                           0.0        0  \n",
              "\n",
              "[5 rows x 61 columns]"
            ],
            "text/html": [
              "\n",
              "  <div id=\"df-b980d1b8-470e-4a18-b951-b3151e7dcd68\">\n",
              "    <div class=\"colab-df-container\">\n",
              "      <div>\n",
              "<style scoped>\n",
              "    .dataframe tbody tr th:only-of-type {\n",
              "        vertical-align: middle;\n",
              "    }\n",
              "\n",
              "    .dataframe tbody tr th {\n",
              "        vertical-align: top;\n",
              "    }\n",
              "\n",
              "    .dataframe thead th {\n",
              "        text-align: right;\n",
              "    }\n",
              "</style>\n",
              "<table border=\"1\" class=\"dataframe\">\n",
              "  <thead>\n",
              "    <tr style=\"text-align: right;\">\n",
              "      <th></th>\n",
              "      <th>url</th>\n",
              "      <th>timedelta</th>\n",
              "      <th>n_tokens_title</th>\n",
              "      <th>n_tokens_content</th>\n",
              "      <th>n_unique_tokens</th>\n",
              "      <th>n_non_stop_words</th>\n",
              "      <th>n_non_stop_unique_tokens</th>\n",
              "      <th>num_hrefs</th>\n",
              "      <th>num_self_hrefs</th>\n",
              "      <th>num_imgs</th>\n",
              "      <th>...</th>\n",
              "      <th>min_positive_polarity</th>\n",
              "      <th>max_positive_polarity</th>\n",
              "      <th>avg_negative_polarity</th>\n",
              "      <th>min_negative_polarity</th>\n",
              "      <th>max_negative_polarity</th>\n",
              "      <th>title_subjectivity</th>\n",
              "      <th>title_sentiment_polarity</th>\n",
              "      <th>abs_title_subjectivity</th>\n",
              "      <th>abs_title_sentiment_polarity</th>\n",
              "      <th>Popular</th>\n",
              "    </tr>\n",
              "  </thead>\n",
              "  <tbody>\n",
              "    <tr>\n",
              "      <th>0</th>\n",
              "      <td>http://mashable.com/2014/12/10/cia-torture-rep...</td>\n",
              "      <td>28.0</td>\n",
              "      <td>9.0</td>\n",
              "      <td>188.0</td>\n",
              "      <td>0.732620</td>\n",
              "      <td>1.0</td>\n",
              "      <td>0.844262</td>\n",
              "      <td>5.0</td>\n",
              "      <td>1.0</td>\n",
              "      <td>1.0</td>\n",
              "      <td>...</td>\n",
              "      <td>0.200000</td>\n",
              "      <td>0.80</td>\n",
              "      <td>-0.487500</td>\n",
              "      <td>-0.60</td>\n",
              "      <td>-0.250000</td>\n",
              "      <td>0.9</td>\n",
              "      <td>0.8</td>\n",
              "      <td>0.4</td>\n",
              "      <td>0.8</td>\n",
              "      <td>1</td>\n",
              "    </tr>\n",
              "    <tr>\n",
              "      <th>1</th>\n",
              "      <td>http://mashable.com/2013/10/18/bitlock-kicksta...</td>\n",
              "      <td>447.0</td>\n",
              "      <td>7.0</td>\n",
              "      <td>297.0</td>\n",
              "      <td>0.653199</td>\n",
              "      <td>1.0</td>\n",
              "      <td>0.815789</td>\n",
              "      <td>9.0</td>\n",
              "      <td>4.0</td>\n",
              "      <td>1.0</td>\n",
              "      <td>...</td>\n",
              "      <td>0.160000</td>\n",
              "      <td>0.50</td>\n",
              "      <td>-0.135340</td>\n",
              "      <td>-0.40</td>\n",
              "      <td>-0.050000</td>\n",
              "      <td>0.1</td>\n",
              "      <td>-0.1</td>\n",
              "      <td>0.4</td>\n",
              "      <td>0.1</td>\n",
              "      <td>0</td>\n",
              "    </tr>\n",
              "    <tr>\n",
              "      <th>2</th>\n",
              "      <td>http://mashable.com/2013/07/24/google-glass-po...</td>\n",
              "      <td>533.0</td>\n",
              "      <td>11.0</td>\n",
              "      <td>181.0</td>\n",
              "      <td>0.660377</td>\n",
              "      <td>1.0</td>\n",
              "      <td>0.775701</td>\n",
              "      <td>4.0</td>\n",
              "      <td>3.0</td>\n",
              "      <td>1.0</td>\n",
              "      <td>...</td>\n",
              "      <td>0.136364</td>\n",
              "      <td>1.00</td>\n",
              "      <td>0.000000</td>\n",
              "      <td>0.00</td>\n",
              "      <td>0.000000</td>\n",
              "      <td>0.3</td>\n",
              "      <td>1.0</td>\n",
              "      <td>0.2</td>\n",
              "      <td>1.0</td>\n",
              "      <td>0</td>\n",
              "    </tr>\n",
              "    <tr>\n",
              "      <th>3</th>\n",
              "      <td>http://mashable.com/2013/11/21/these-are-the-m...</td>\n",
              "      <td>413.0</td>\n",
              "      <td>12.0</td>\n",
              "      <td>781.0</td>\n",
              "      <td>0.497409</td>\n",
              "      <td>1.0</td>\n",
              "      <td>0.677350</td>\n",
              "      <td>10.0</td>\n",
              "      <td>3.0</td>\n",
              "      <td>1.0</td>\n",
              "      <td>...</td>\n",
              "      <td>0.100000</td>\n",
              "      <td>1.00</td>\n",
              "      <td>-0.195701</td>\n",
              "      <td>-0.40</td>\n",
              "      <td>-0.071429</td>\n",
              "      <td>0.0</td>\n",
              "      <td>0.0</td>\n",
              "      <td>0.5</td>\n",
              "      <td>0.0</td>\n",
              "      <td>0</td>\n",
              "    </tr>\n",
              "    <tr>\n",
              "      <th>4</th>\n",
              "      <td>http://mashable.com/2014/02/11/parking-ticket-...</td>\n",
              "      <td>331.0</td>\n",
              "      <td>8.0</td>\n",
              "      <td>177.0</td>\n",
              "      <td>0.685714</td>\n",
              "      <td>1.0</td>\n",
              "      <td>0.830357</td>\n",
              "      <td>3.0</td>\n",
              "      <td>2.0</td>\n",
              "      <td>1.0</td>\n",
              "      <td>...</td>\n",
              "      <td>0.100000</td>\n",
              "      <td>0.55</td>\n",
              "      <td>-0.175000</td>\n",
              "      <td>-0.25</td>\n",
              "      <td>-0.100000</td>\n",
              "      <td>0.0</td>\n",
              "      <td>0.0</td>\n",
              "      <td>0.5</td>\n",
              "      <td>0.0</td>\n",
              "      <td>0</td>\n",
              "    </tr>\n",
              "  </tbody>\n",
              "</table>\n",
              "<p>5 rows × 61 columns</p>\n",
              "</div>\n",
              "      <button class=\"colab-df-convert\" onclick=\"convertToInteractive('df-b980d1b8-470e-4a18-b951-b3151e7dcd68')\"\n",
              "              title=\"Convert this dataframe to an interactive table.\"\n",
              "              style=\"display:none;\">\n",
              "        \n",
              "  <svg xmlns=\"http://www.w3.org/2000/svg\" height=\"24px\"viewBox=\"0 0 24 24\"\n",
              "       width=\"24px\">\n",
              "    <path d=\"M0 0h24v24H0V0z\" fill=\"none\"/>\n",
              "    <path d=\"M18.56 5.44l.94 2.06.94-2.06 2.06-.94-2.06-.94-.94-2.06-.94 2.06-2.06.94zm-11 1L8.5 8.5l.94-2.06 2.06-.94-2.06-.94L8.5 2.5l-.94 2.06-2.06.94zm10 10l.94 2.06.94-2.06 2.06-.94-2.06-.94-.94-2.06-.94 2.06-2.06.94z\"/><path d=\"M17.41 7.96l-1.37-1.37c-.4-.4-.92-.59-1.43-.59-.52 0-1.04.2-1.43.59L10.3 9.45l-7.72 7.72c-.78.78-.78 2.05 0 2.83L4 21.41c.39.39.9.59 1.41.59.51 0 1.02-.2 1.41-.59l7.78-7.78 2.81-2.81c.8-.78.8-2.07 0-2.86zM5.41 20L4 18.59l7.72-7.72 1.47 1.35L5.41 20z\"/>\n",
              "  </svg>\n",
              "      </button>\n",
              "      \n",
              "  <style>\n",
              "    .colab-df-container {\n",
              "      display:flex;\n",
              "      flex-wrap:wrap;\n",
              "      gap: 12px;\n",
              "    }\n",
              "\n",
              "    .colab-df-convert {\n",
              "      background-color: #E8F0FE;\n",
              "      border: none;\n",
              "      border-radius: 50%;\n",
              "      cursor: pointer;\n",
              "      display: none;\n",
              "      fill: #1967D2;\n",
              "      height: 32px;\n",
              "      padding: 0 0 0 0;\n",
              "      width: 32px;\n",
              "    }\n",
              "\n",
              "    .colab-df-convert:hover {\n",
              "      background-color: #E2EBFA;\n",
              "      box-shadow: 0px 1px 2px rgba(60, 64, 67, 0.3), 0px 1px 3px 1px rgba(60, 64, 67, 0.15);\n",
              "      fill: #174EA6;\n",
              "    }\n",
              "\n",
              "    [theme=dark] .colab-df-convert {\n",
              "      background-color: #3B4455;\n",
              "      fill: #D2E3FC;\n",
              "    }\n",
              "\n",
              "    [theme=dark] .colab-df-convert:hover {\n",
              "      background-color: #434B5C;\n",
              "      box-shadow: 0px 1px 3px 1px rgba(0, 0, 0, 0.15);\n",
              "      filter: drop-shadow(0px 1px 2px rgba(0, 0, 0, 0.3));\n",
              "      fill: #FFFFFF;\n",
              "    }\n",
              "  </style>\n",
              "\n",
              "      <script>\n",
              "        const buttonEl =\n",
              "          document.querySelector('#df-b980d1b8-470e-4a18-b951-b3151e7dcd68 button.colab-df-convert');\n",
              "        buttonEl.style.display =\n",
              "          google.colab.kernel.accessAllowed ? 'block' : 'none';\n",
              "\n",
              "        async function convertToInteractive(key) {\n",
              "          const element = document.querySelector('#df-b980d1b8-470e-4a18-b951-b3151e7dcd68');\n",
              "          const dataTable =\n",
              "            await google.colab.kernel.invokeFunction('convertToInteractive',\n",
              "                                                     [key], {});\n",
              "          if (!dataTable) return;\n",
              "\n",
              "          const docLinkHtml = 'Like what you see? Visit the ' +\n",
              "            '<a target=\"_blank\" href=https://colab.research.google.com/notebooks/data_table.ipynb>data table notebook</a>'\n",
              "            + ' to learn more about interactive tables.';\n",
              "          element.innerHTML = '';\n",
              "          dataTable['output_type'] = 'display_data';\n",
              "          await google.colab.output.renderOutput(dataTable, element);\n",
              "          const docLink = document.createElement('div');\n",
              "          docLink.innerHTML = docLinkHtml;\n",
              "          element.appendChild(docLink);\n",
              "        }\n",
              "      </script>\n",
              "    </div>\n",
              "  </div>\n",
              "  "
            ]
          },
          "metadata": {},
          "execution_count": 86
        },
        {
          "output_type": "stream",
          "name": "stdout",
          "text": [
            "Warning: Total number of columns (61) exceeds max_columns (20) limiting to first (20) columns.\n"
          ]
        }
      ],
      "source": [
        "# Lectura de la información de archivo .csv\n",
        "df = pd.read_csv('https://raw.githubusercontent.com/albahnsen/MIAD_ML_and_NLP/main/datasets/mashable.csv', index_col=0)\n",
        "df.head()"
      ]
    },
    {
      "cell_type": "code",
      "execution_count": 87,
      "metadata": {
        "id": "wX4laRm79G3x",
        "colab": {
          "base_uri": "https://localhost:8080/"
        },
        "outputId": "035afc1d-cde5-47ed-a446-1c575e47c688"
      },
      "outputs": [
        {
          "output_type": "execute_result",
          "data": {
            "text/plain": [
              "0.5"
            ]
          },
          "metadata": {},
          "execution_count": 87
        }
      ],
      "source": [
        "# Definición variable de interes y variables predictoras\n",
        "X = df.drop(['url', 'Popular'], axis=1)\n",
        "y = df['Popular']\n",
        "y.mean()"
      ]
    },
    {
      "cell_type": "code",
      "execution_count": 88,
      "metadata": {
        "id": "IYNnIAbw9G3y"
      },
      "outputs": [],
      "source": [
        "# División de la muestra en set de entrenamiento y prueba\n",
        "from sklearn.model_selection import train_test_split\n",
        "X_train, X_test, y_train, y_test = train_test_split(X, y, random_state=1)"
      ]
    },
    {
      "cell_type": "markdown",
      "metadata": {
        "id": "kEPQNgPL9G3y"
      },
      "source": [
        "### Punto 6 - Árbol de decisión y regresión logística\n",
        "En la celda 6 construya un árbol de decisión y una regresión logística. Para el árbol calibre al menos un parámetro y evalúe el desempeño de cada modelo usando las métricas de Accuracy y F1-Score."
      ]
    },
    {
      "cell_type": "code",
      "execution_count": null,
      "metadata": {
        "id": "0ETAtykD9G3y"
      },
      "outputs": [],
      "source": [
        "# Celda 6\n"
      ]
    },
    {
      "cell_type": "markdown",
      "metadata": {
        "id": "8CtCrecF9G3y"
      },
      "source": [
        "### Punto 7 - Votación Mayoritaria\n",
        "En la celda 7 elabore un esamble con la metodología de **Votación mayoritaria** compuesto por 300 muestras bagged para cada uno de los siguientes escenarios:\n",
        "\n",
        "-100 árboles de decisión donde max_depth = None\\\n",
        "-100 árboles de decisión donde max_depth = 2\\\n",
        "-100 regresiones logísticas\n",
        "\n",
        "Evalúe los modelos utilizando las métricas de Accuracy y F1-Score."
      ]
    },
    {
      "cell_type": "code",
      "execution_count": null,
      "metadata": {
        "id": "fo4oP3E_9G3y"
      },
      "outputs": [],
      "source": [
        "# Celda 7\n"
      ]
    },
    {
      "cell_type": "markdown",
      "metadata": {
        "id": "E1mcvcPu9G3y"
      },
      "source": [
        "### Punto 8 - Votación Ponderada\n",
        "En la celda 8 elabore un ensamble con la metodología de **Votación ponderada** compuesto por 300 muestras bagged para los mismos tres escenarios del punto 7. Evalúe los modelos utilizando las métricas de Accuracy y F1-Score"
      ]
    },
    {
      "cell_type": "code",
      "execution_count": null,
      "metadata": {
        "id": "KsDCy5_e9G3y"
      },
      "outputs": [],
      "source": [
        "# Celda 8\n"
      ]
    },
    {
      "cell_type": "markdown",
      "metadata": {
        "id": "3M1KEp1X9G3z"
      },
      "source": [
        "### Punto 9 - Comparación y análisis de resultados\n",
        "En la celda 9 comente sobre los resultados obtenidos con las metodologías usadas en los puntos 7 y 8, compare los resultados y enuncie posibles ventajas o desventajas de cada una de ellas."
      ]
    },
    {
      "cell_type": "code",
      "execution_count": null,
      "metadata": {
        "id": "8vliTTVt9G3z"
      },
      "outputs": [],
      "source": [
        "# Celda 9"
      ]
    }
  ],
  "metadata": {
    "kernelspec": {
      "display_name": "Python 3",
      "language": "python",
      "name": "python3"
    },
    "language_info": {
      "codemirror_mode": {
        "name": "ipython",
        "version": 3
      },
      "file_extension": ".py",
      "mimetype": "text/x-python",
      "name": "python",
      "nbconvert_exporter": "python",
      "pygments_lexer": "ipython3",
      "version": "3.7.3"
    },
    "colab": {
      "name": "S1TC1_arboles_ensamblajes.ipynb",
      "provenance": []
    }
  },
  "nbformat": 4,
  "nbformat_minor": 0
}